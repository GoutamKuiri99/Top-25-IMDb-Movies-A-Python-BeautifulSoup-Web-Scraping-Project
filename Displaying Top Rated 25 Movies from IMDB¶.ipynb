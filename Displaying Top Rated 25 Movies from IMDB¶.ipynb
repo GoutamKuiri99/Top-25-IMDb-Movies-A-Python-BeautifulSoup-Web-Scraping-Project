{
 "cells": [
  {
   "cell_type": "markdown",
   "id": "6b346d3b-6cb9-408a-9186-0182ac509bc4",
   "metadata": {},
   "source": [
    "### **Project 1: Displaying Top Rated 25 Movies from IMDB**"
   ]
  },
  {
   "cell_type": "code",
   "execution_count": 1,
   "id": "f3328df0-647b-473c-9999-1f7adfcb4c7f",
   "metadata": {},
   "outputs": [],
   "source": [
    "import requests\n",
    "from bs4 import BeautifulSoup\n",
    "import pandas as pd "
   ]
  },
  {
   "cell_type": "code",
   "execution_count": 2,
   "id": "e54f522a-b0c7-4946-affa-78b9e5f261cb",
   "metadata": {},
   "outputs": [
    {
     "name": "stdout",
     "output_type": "stream",
     "text": [
      "<Response [403]>\n"
     ]
    }
   ],
   "source": [
    "url='https://www.imdb.com/chart/top/'\n",
    "r=requests.get(url)\n",
    "print(r)"
   ]
  },
  {
   "cell_type": "code",
   "execution_count": 3,
   "id": "5b0ea706-bc54-49ba-8317-771c9ea15a9a",
   "metadata": {},
   "outputs": [
    {
     "name": "stdout",
     "output_type": "stream",
     "text": [
      "<Response [403]>\n",
      "<html>\n",
      "<head><title>403 Forbidden</title></head>\n",
      "<body>\n",
      "<center><h1>403 Forbidden</h1></center>\n",
      "</body>\n",
      "</html>\n",
      "\n"
     ]
    }
   ],
   "source": [
    "url='https://www.imdb.com/chart/top/'\n",
    "r=requests.get(url)\n",
    "print(r)\n",
    "soup=BeautifulSoup(r.text,'lxml')\n",
    "print(soup)"
   ]
  },
  {
   "cell_type": "markdown",
   "id": "70f0f4c8-4a92-4834-bb69-c99a3434cbc1",
   "metadata": {},
   "source": [
    "When you get a 403 Forbidden response, it typically means that the server is rejecting your request. This could be because the server detects that you're making an automated request or that your headers do not adequately mimic a real browser.\n",
    "\n",
    "**Methods to Bypass a 403 Error**   \n",
    "\n",
    "Here are several methods you can try to bypass the **403 Forbidden** response and successfully scrape data using **eautifulSoup**:\n",
    "\n",
    "**Use a Realistic User-Agent and Headers**\n"
   ]
  },
  {
   "cell_type": "code",
   "execution_count": 6,
   "id": "2f8f2b36-191a-43eb-ab39-d99b758b8274",
   "metadata": {},
   "outputs": [
    {
     "name": "stdout",
     "output_type": "stream",
     "text": [
      "Status Code: 200\n",
      "                                           Movie_Name  Year Duration  \\\n",
      "0                         1. The Shawshank Redemption  1994   2h 22m   \n",
      "1                                    2. The Godfather  1972   2h 55m   \n",
      "2                                  3. The Dark Knight  2008   2h 32m   \n",
      "3                            4. The Godfather Part II  1974   3h 22m   \n",
      "4                                     5. 12 Angry Men  1957   1h 36m   \n",
      "5                                 6. Schindler's List  1993   3h 15m   \n",
      "6    7. The Lord of the Rings: The Return of the King  2003   3h 21m   \n",
      "7                                     8. Pulp Fiction  1994   2h 34m   \n",
      "8   9. The Lord of the Rings: The Fellowship of th...  2001   2h 58m   \n",
      "9                  10. The Good, the Bad and the Ugly  1966   2h 58m   \n",
      "10                                   11. Forrest Gump  1994   2h 22m   \n",
      "11          12. The Lord of the Rings: The Two Towers  2002   2h 59m   \n",
      "12                                     13. Fight Club  1999   2h 19m   \n",
      "13                                      14. Inception  2010   2h 28m   \n",
      "14  15. Star Wars: Episode V - The Empire Strikes ...  1980    2h 4m   \n",
      "15                                     16. The Matrix  1999   2h 16m   \n",
      "16                                     17. Goodfellas  1990   2h 25m   \n",
      "17                18. One Flew Over the Cuckoo's Nest  1975   2h 13m   \n",
      "18                                   19. Interstellar  2014   2h 49m   \n",
      "19                                          20. Se7en  1995    2h 7m   \n",
      "20                          21. It's a Wonderful Life  1946   2h 10m   \n",
      "21                                  22. Seven Samurai  1954   3h 27m   \n",
      "22                       23. The Silence of the Lambs  1991   1h 58m   \n",
      "23                            24. Saving Private Ryan  1998   2h 49m   \n",
      "24                                    25. City of God  2002   2h 10m   \n",
      "\n",
      "        Rated Ratings Rating_Votecount  \n",
      "0           R     9.3             2.9M  \n",
      "1           R     9.2               2M  \n",
      "2       PG-13     9.0             2.9M  \n",
      "3           R     9.0             1.4M  \n",
      "4    Approved     9.0             880K  \n",
      "5           R     9.0             1.5M  \n",
      "6       PG-13     9.0               2M  \n",
      "7           R     8.9             2.3M  \n",
      "8       PG-13     8.9               2M  \n",
      "9           R     8.8             822K  \n",
      "10      PG-13     8.8             2.3M  \n",
      "11      PG-13     8.8             1.8M  \n",
      "12          R     8.8             2.4M  \n",
      "13      PG-13     8.8             2.6M  \n",
      "14         PG     8.7             1.4M  \n",
      "15          R     8.7             2.1M  \n",
      "16          R     8.7             1.3M  \n",
      "17          R     8.7             1.1M  \n",
      "18      PG-13     8.7             2.1M  \n",
      "19          R     8.6             1.8M  \n",
      "20         PG     8.6             504K  \n",
      "21  Not Rated     8.6             371K  \n",
      "22          R     8.6             1.6M  \n",
      "23          R     8.6             1.5M  \n",
      "24          R     8.6             810K  \n"
     ]
    }
   ],
   "source": [
    "import requests\n",
    "from bs4 import BeautifulSoup\n",
    "import pandas\n",
    "Movie_Name=[]\n",
    "Year=[]\n",
    "duration=[]\n",
    "Rated=[]\n",
    "Ratings=[]\n",
    "Rating_Votecount=[]\n",
    "\n",
    "\n",
    "url='https://www.imdb.com/chart/top/'\n",
    "headers={'user-agent':\n",
    "    'Mozilla/5.0 (Windows NT 10.0; Win64; x64) AppleWebKit/537.36 (KHTML, like Gecko)Chrome/127.0.0.0 Safari/537.36',\n",
    "    'accept-language':'en-US,en;q=0.9',\n",
    "    'referer':'https://www.imdb.com/chart/top/',\n",
    "    'Connection': 'keep-alive'        \n",
    "            }\n",
    "r=requests.get(url,headers=headers)\n",
    "print(f\"Status Code: {r.status_code}\")   \n",
    "\n",
    "if r.status_code==200:\n",
    "        soup=BeautifulSoup(r.text,'lxml')\n",
    "        Name=soup.find_all('h3',class_='ipc-title__text')[1:26]\n",
    "        for i in Name:\n",
    "            n=i.text\n",
    "            Movie_Name.append(n)\n",
    "\n",
    "        Year_elements = soup.find_all('div', class_='sc-b189961a-7 btCcOY cli-title-metadata')[:25]  # Replace with your actual selector\n",
    "           # Iterate through each item and extract the last sub-element\n",
    "        for item in Year_elements:\n",
    "            sub_elements = item.find_all('span', class_='sc-b189961a-8 hCbzGp cli-title-metadata-item')[:25]\n",
    "            if sub_elements:\n",
    "                First_element = sub_elements[0].text.strip()\n",
    "                Year.append(First_element)     \n",
    "\n",
    "           # Assuming `items` is a list of elements where each element has multiple sub-elements\n",
    "        durations = soup.find_all('div', class_='sc-b189961a-7 btCcOY cli-title-metadata')[:25]  # Replace with your actual selector\n",
    "        \n",
    "        # Iterate through each item and extract the last sub-element\n",
    "        for item in durations:\n",
    "            sub_elements = item.find_all('span', class_='sc-b189961a-8 hCbzGp cli-title-metadata-item')[:25]\n",
    "            if sub_elements:\n",
    "                Middle_element = sub_elements[1].text.strip()\n",
    "                duration.append(Middle_element)\n",
    "\n",
    "        # Assuming `items` is a list of elements where each element has multiple sub-elements\n",
    "        items = soup.find_all('div', class_='sc-b189961a-7 btCcOY cli-title-metadata')[:25]  # Replace with your actual selector\n",
    "        \n",
    "        # Iterate through each item and extract the last sub-element\n",
    "        for item in items:\n",
    "            sub_elements = item.find_all('span', class_='sc-b189961a-8 hCbzGp cli-title-metadata-item')[:25]\n",
    "            if sub_elements:\n",
    "                last_element = sub_elements[-1].text.strip()\n",
    "                Rated.append(last_element)\n",
    "               \n",
    "\n",
    "        Rating=soup.find_all('span',class_='ipc-rating-star--rating')[:25]\n",
    "        for i in Rating:\n",
    "            p=i.text\n",
    "            Ratings.append(p)\n",
    "        \n",
    "\n",
    "        vote_count_elements = soup.find_all('span', class_='ipc-rating-star--voteCount')[:25]\n",
    "        \n",
    "        for i in vote_count_elements:\n",
    "            text = i.text.replace('(',\"\").replace(')','').strip()\n",
    "            Rating_Votecount.append(text)    \n",
    "\n",
    "\n",
    "data = {\n",
    "    'Movie_Name': Movie_Name,\n",
    "    'Year': Year,\n",
    "    'Duration': duration,\n",
    "    'Rated': Rated,\n",
    "    'Ratings': Ratings,\n",
    "    'Rating_Votecount': Rating_Votecount\n",
    "}\n",
    "\n",
    "# Convert the dictionary into a DataFrame\n",
    "df = pd.DataFrame(data)\n",
    "\n",
    "# Display the DataFrame\n",
    "print(df)"
   ]
  },
  {
   "cell_type": "code",
   "execution_count": 8,
   "id": "aadb1c3a-e190-4c33-b6d3-e68b06aa07d0",
   "metadata": {},
   "outputs": [],
   "source": [
    "df.to_csv(\"Top Rated 25 Movies from IMDB.csv\")"
   ]
  },
  {
   "cell_type": "code",
   "execution_count": null,
   "id": "1af45561-3215-4827-bdfa-6fc78f9d7fbb",
   "metadata": {},
   "outputs": [],
   "source": []
  },
  {
   "cell_type": "code",
   "execution_count": null,
   "id": "2e717d5b-a8fd-4743-9eff-c8882faeeea8",
   "metadata": {},
   "outputs": [],
   "source": []
  }
 ],
 "metadata": {
  "kernelspec": {
   "display_name": "Python 3 (ipykernel)",
   "language": "python",
   "name": "python3"
  },
  "language_info": {
   "codemirror_mode": {
    "name": "ipython",
    "version": 3
   },
   "file_extension": ".py",
   "mimetype": "text/x-python",
   "name": "python",
   "nbconvert_exporter": "python",
   "pygments_lexer": "ipython3",
   "version": "3.12.4"
  }
 },
 "nbformat": 4,
 "nbformat_minor": 5
}
